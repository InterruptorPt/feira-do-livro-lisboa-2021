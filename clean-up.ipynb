{
 "cells": [
  {
   "cell_type": "code",
   "execution_count": 8,
   "source": [
    "import pandas as pd\n",
    "import numpy as np"
   ],
   "outputs": [],
   "metadata": {}
  },
  {
   "cell_type": "code",
   "execution_count": 9,
   "source": [
    "# dataframe livros do dia\n",
    "df = pd.read_json(\"./out/books-list-2021-08-27-t10-21-48-326-z.json\")"
   ],
   "outputs": [],
   "metadata": {}
  },
  {
   "cell_type": "code",
   "execution_count": 10,
   "source": [
    "#organizar datas e colunas, calcular descontos e remover duplicados\n",
    "\n",
    "df = df.assign(dia=df['livro_do_dia_datas']).explode('dia').reset_index(drop=True)\n",
    "\n",
    "df[\"desconto_livrdia_euro\"] = df[\"pvp\"] - df[\"pvp_livro_do_dia\"]\n",
    "df[\"desconto_livrdia_perc\"] = (df[\"desconto_livrdia_euro\"] / df[\"pvp\"]) * 100\n",
    "\n",
    "df = df.drop_duplicates(subset=['isbn', 'titulo', 'autor', 'chancela', 'dia'], keep='first')"
   ],
   "outputs": [],
   "metadata": {}
  },
  {
   "cell_type": "code",
   "execution_count": 11,
   "source": [
    "#Está no Plano Nacional de Leitura?\n",
    "\n",
    "pnl = pd.read_csv(\"isbn_pnl_sem_duplicados.csv\", index_col=0)\n",
    "pnl     \n",
    "\n",
    "pnl[\"ISBN\"] = pnl[\"ISBN\"].str.replace(\"-\", \"\", regex=True)\n",
    "isbn_pnl = list(set(pnl[\"ISBN\"]).intersection(df[\"isbn\"]))\n",
    "df['PNL'] = np.where(df['isbn'].isin(isbn_pnl), '✅', '')\n"
   ],
   "outputs": [],
   "metadata": {}
  },
  {
   "cell_type": "code",
   "execution_count": 24,
   "source": [
    "# organizar colunas e exportar\n",
    "\n",
    "df = df[['dia', 'isbn','PNL', 'titulo', 'autor', 'chancela', 'pvp', 'pvp_livro_do_dia', 'desconto_livrdia_perc', 'participant_name', 'stand']]\n",
    "df = df.apply(lambda x: x.astype(str).str.title())\n",
    "df.to_csv(\"livros-do-dia-limpo.csv\", index=False)"
   ],
   "outputs": [],
   "metadata": {}
  }
 ],
 "metadata": {
  "orig_nbformat": 4,
  "language_info": {
   "name": "python",
   "version": "3.8.5",
   "mimetype": "text/x-python",
   "codemirror_mode": {
    "name": "ipython",
    "version": 3
   },
   "pygments_lexer": "ipython3",
   "nbconvert_exporter": "python",
   "file_extension": ".py"
  },
  "kernelspec": {
   "name": "python3",
   "display_name": "Python 3.8.5 64-bit ('base': conda)"
  },
  "interpreter": {
   "hash": "85cf7c50353f29c98d8d58ed1663d858abf22ad7cca8be8d000bc637677f8417"
  }
 },
 "nbformat": 4,
 "nbformat_minor": 2
}